{
  "nbformat": 4,
  "nbformat_minor": 0,
  "metadata": {
    "kernelspec": {
      "display_name": "Python 3",
      "language": "python",
      "name": "python3"
    },
    "language_info": {
      "codemirror_mode": {
        "name": "ipython",
        "version": 3
      },
      "file_extension": ".py",
      "mimetype": "text/x-python",
      "name": "python",
      "nbconvert_exporter": "python",
      "pygments_lexer": "ipython3",
      "version": "3.8.5"
    },
    "colab": {
      "name": "Class2  PracticeWorkingWithStrings.ipynb",
      "provenance": []
    }
  },
  "cells": [
    {
      "cell_type": "markdown",
      "metadata": {
        "id": "JOiy4qpQmHcd"
      },
      "source": [
        "# Working with String Data"
      ]
    },
    {
      "cell_type": "code",
      "metadata": {
        "id": "-o-gzH2CmHci",
        "colab": {
          "base_uri": "https://localhost:8080/"
        },
        "outputId": "8abce571-b394-4acb-817e-ed6f973c98c0"
      },
      "source": [
        "s1 = \"I am an Immutable String\"\n",
        "print(s1[3])"
      ],
      "execution_count": 1,
      "outputs": [
        {
          "output_type": "stream",
          "name": "stdout",
          "text": [
            "m\n"
          ]
        }
      ]
    },
    {
      "cell_type": "code",
      "metadata": {
        "id": "UEBk8ZnqmHck",
        "colab": {
          "base_uri": "https://localhost:8080/"
        },
        "outputId": "fa9f3d5e-f37c-46d9-d5dc-e9992f7ac198"
      },
      "source": [
        "print(s1[8:17])"
      ],
      "execution_count": 2,
      "outputs": [
        {
          "output_type": "stream",
          "name": "stdout",
          "text": [
            "Immutable\n"
          ]
        }
      ]
    },
    {
      "cell_type": "code",
      "metadata": {
        "id": "Jpa-rygdmHcl"
      },
      "source": [
        "#s1[8:17]=\"Mutable\"         Error. Can't be changed inplace"
      ],
      "execution_count": null,
      "outputs": []
    },
    {
      "cell_type": "code",
      "metadata": {
        "id": "TWgXJISWmHcl",
        "colab": {
          "base_uri": "https://localhost:8080/",
          "height": 35
        },
        "outputId": "7cc202a4-7d79-493f-bdc0-ffdfa6cae7b2"
      },
      "source": [
        "s1 = s1[:6]+s1[7:8]+s1[10:17]+s1[17:]\n",
        "s1"
      ],
      "execution_count": 3,
      "outputs": [
        {
          "output_type": "execute_result",
          "data": {
            "application/vnd.google.colaboratory.intrinsic+json": {
              "type": "string"
            },
            "text/plain": [
              "'I am a mutable String'"
            ]
          },
          "metadata": {},
          "execution_count": 3
        }
      ]
    },
    {
      "cell_type": "markdown",
      "metadata": {
        "id": "OjOkuxv5mHcm"
      },
      "source": [
        "### Multi-line Strings"
      ]
    },
    {
      "cell_type": "code",
      "metadata": {
        "id": "bNlKUc-jmHcm",
        "colab": {
          "base_uri": "https://localhost:8080/",
          "height": 35
        },
        "outputId": "683fb212-a8e3-4cc5-da9a-d1724974e05d"
      },
      "source": [
        "s2=\"\"\"SASTRA\n",
        "DEEMED\n",
        "UNIVERSITY\"\"\"\n",
        "s2"
      ],
      "execution_count": 4,
      "outputs": [
        {
          "output_type": "execute_result",
          "data": {
            "application/vnd.google.colaboratory.intrinsic+json": {
              "type": "string"
            },
            "text/plain": [
              "'SASTRA\\nDEEMED\\nUNIVERSITY'"
            ]
          },
          "metadata": {},
          "execution_count": 4
        }
      ]
    },
    {
      "cell_type": "markdown",
      "metadata": {
        "id": "DpEpkA9hmHcn"
      },
      "source": [
        "### String Functions"
      ]
    },
    {
      "cell_type": "code",
      "metadata": {
        "id": "3HP7B7NzmHcn",
        "colab": {
          "base_uri": "https://localhost:8080/",
          "height": 35
        },
        "outputId": "af95d05e-35a1-4591-e947-cc5a4e45f27e"
      },
      "source": [
        "s2.lower()"
      ],
      "execution_count": 17,
      "outputs": [
        {
          "output_type": "execute_result",
          "data": {
            "application/vnd.google.colaboratory.intrinsic+json": {
              "type": "string"
            },
            "text/plain": [
              "'sastra\\ndeemed\\nuniversity'"
            ]
          },
          "metadata": {},
          "execution_count": 17
        }
      ]
    },
    {
      "cell_type": "code",
      "metadata": {
        "id": "i5CKdavYmHco",
        "colab": {
          "base_uri": "https://localhost:8080/",
          "height": 35
        },
        "outputId": "5c72f187-a070-4245-d7b3-93923297dc14"
      },
      "source": [
        "s2.title()"
      ],
      "execution_count": 18,
      "outputs": [
        {
          "output_type": "execute_result",
          "data": {
            "application/vnd.google.colaboratory.intrinsic+json": {
              "type": "string"
            },
            "text/plain": [
              "'Sastra\\nDeemed\\nUniversity'"
            ]
          },
          "metadata": {},
          "execution_count": 18
        }
      ]
    },
    {
      "cell_type": "code",
      "metadata": {
        "id": "tmK_C2uUmHcp",
        "colab": {
          "base_uri": "https://localhost:8080/",
          "height": 35
        },
        "outputId": "c398f883-4af8-4383-cbd4-2be786101655"
      },
      "source": [
        "s2.capitalize()\n"
      ],
      "execution_count": 19,
      "outputs": [
        {
          "output_type": "execute_result",
          "data": {
            "application/vnd.google.colaboratory.intrinsic+json": {
              "type": "string"
            },
            "text/plain": [
              "'Sastra\\ndeemed\\nuniversity'"
            ]
          },
          "metadata": {},
          "execution_count": 19
        }
      ]
    },
    {
      "cell_type": "code",
      "metadata": {
        "id": "ndPAtdR3mvZq"
      },
      "source": [
        "sent = 'i am in india. IT is my .country.so i LIKE my .country. '"
      ],
      "execution_count": 20,
      "outputs": []
    },
    {
      "cell_type": "code",
      "metadata": {
        "colab": {
          "base_uri": "https://localhost:8080/",
          "height": 35
        },
        "id": "VaPNqfw4nAR6",
        "outputId": "f5f86111-bec3-40be-96b5-d0a12d52e2f6"
      },
      "source": [
        "sent.capitalize()\n"
      ],
      "execution_count": 21,
      "outputs": [
        {
          "output_type": "execute_result",
          "data": {
            "application/vnd.google.colaboratory.intrinsic+json": {
              "type": "string"
            },
            "text/plain": [
              "'I am in india. it is my .country.so i like my .country. '"
            ]
          },
          "metadata": {},
          "execution_count": 21
        }
      ]
    },
    {
      "cell_type": "code",
      "metadata": {
        "id": "3oD_ca-ymHcp",
        "colab": {
          "base_uri": "https://localhost:8080/",
          "height": 35
        },
        "outputId": "e2727ea3-f980-4fe0-b7a3-05cbcd341bcb"
      },
      "source": [
        "s2.upper()"
      ],
      "execution_count": 22,
      "outputs": [
        {
          "output_type": "execute_result",
          "data": {
            "application/vnd.google.colaboratory.intrinsic+json": {
              "type": "string"
            },
            "text/plain": [
              "'SASTRA\\nDEEMED\\nUNIVERSITY'"
            ]
          },
          "metadata": {},
          "execution_count": 22
        }
      ]
    },
    {
      "cell_type": "code",
      "metadata": {
        "id": "goZ02HRNmHcq",
        "colab": {
          "base_uri": "https://localhost:8080/"
        },
        "outputId": "14fbe7f4-f074-4c89-9925-8b875196a591"
      },
      "source": [
        "s2.split('\\n')"
      ],
      "execution_count": 23,
      "outputs": [
        {
          "output_type": "execute_result",
          "data": {
            "text/plain": [
              "['SASTRA', 'DEEMED', 'UNIVERSITY']"
            ]
          },
          "metadata": {},
          "execution_count": 23
        }
      ]
    },
    {
      "cell_type": "code",
      "metadata": {
        "id": "hvgRyd8pmHcq",
        "colab": {
          "base_uri": "https://localhost:8080/"
        },
        "outputId": "70c58b0e-d772-4be8-e53a-36c687c44d55"
      },
      "source": [
        "s2.count('E')"
      ],
      "execution_count": 24,
      "outputs": [
        {
          "output_type": "execute_result",
          "data": {
            "text/plain": [
              "4"
            ]
          },
          "metadata": {},
          "execution_count": 24
        }
      ]
    },
    {
      "cell_type": "code",
      "metadata": {
        "id": "i3dkdRs0mHcr"
      },
      "source": [
        "name = \"Kamakshi maam\"\n",
        "firstname, lastname = name.split()"
      ],
      "execution_count": 35,
      "outputs": []
    },
    {
      "cell_type": "code",
      "metadata": {
        "id": "BFtqSZxemHcr",
        "colab": {
          "base_uri": "https://localhost:8080/",
          "height": 35
        },
        "outputId": "76e00c3b-5a52-46a6-e6d0-59f4112d8da9"
      },
      "source": [
        "firstname"
      ],
      "execution_count": 36,
      "outputs": [
        {
          "output_type": "execute_result",
          "data": {
            "application/vnd.google.colaboratory.intrinsic+json": {
              "type": "string"
            },
            "text/plain": [
              "'Kamakshi'"
            ]
          },
          "metadata": {},
          "execution_count": 36
        }
      ]
    },
    {
      "cell_type": "code",
      "metadata": {
        "id": "MCa2D17omHcr",
        "colab": {
          "base_uri": "https://localhost:8080/",
          "height": 35
        },
        "outputId": "18451395-ef70-44fd-efdb-0d73776d6fe7"
      },
      "source": [
        "lastname"
      ],
      "execution_count": 37,
      "outputs": [
        {
          "output_type": "execute_result",
          "data": {
            "application/vnd.google.colaboratory.intrinsic+json": {
              "type": "string"
            },
            "text/plain": [
              "'maam'"
            ]
          },
          "metadata": {},
          "execution_count": 37
        }
      ]
    },
    {
      "cell_type": "code",
      "metadata": {
        "id": "9DCDgeJnmHcs",
        "colab": {
          "base_uri": "https://localhost:8080/",
          "height": 35
        },
        "outputId": "d568e971-a01a-4896-afc8-6a0c836b75be"
      },
      "source": [
        "firstname.swapcase()"
      ],
      "execution_count": 38,
      "outputs": [
        {
          "output_type": "execute_result",
          "data": {
            "application/vnd.google.colaboratory.intrinsic+json": {
              "type": "string"
            },
            "text/plain": [
              "'kAMAKSHI'"
            ]
          },
          "metadata": {},
          "execution_count": 38
        }
      ]
    },
    {
      "cell_type": "code",
      "metadata": {
        "id": "dkXG-ek4mHcs",
        "colab": {
          "base_uri": "https://localhost:8080/",
          "height": 35
        },
        "outputId": "36696304-5b7d-4043-a322-911288af57c0"
      },
      "source": [
        "s4 = \"   I am a   string with multiple  spaces     \"\n",
        "s4.rstrip()"
      ],
      "execution_count": 29,
      "outputs": [
        {
          "output_type": "execute_result",
          "data": {
            "application/vnd.google.colaboratory.intrinsic+json": {
              "type": "string"
            },
            "text/plain": [
              "'   I am a   string with multiple  spaces'"
            ]
          },
          "metadata": {},
          "execution_count": 29
        }
      ]
    },
    {
      "cell_type": "code",
      "metadata": {
        "id": "fFa-3rF0mHcs",
        "colab": {
          "base_uri": "https://localhost:8080/",
          "height": 35
        },
        "outputId": "d567540c-8633-4a1b-da32-2dd075b2d075"
      },
      "source": [
        "s4.lstrip()"
      ],
      "execution_count": 30,
      "outputs": [
        {
          "output_type": "execute_result",
          "data": {
            "application/vnd.google.colaboratory.intrinsic+json": {
              "type": "string"
            },
            "text/plain": [
              "'I am a   string with multiple  spaces     '"
            ]
          },
          "metadata": {},
          "execution_count": 30
        }
      ]
    },
    {
      "cell_type": "code",
      "metadata": {
        "id": "k2azVBR2mHct",
        "colab": {
          "base_uri": "https://localhost:8080/",
          "height": 35
        },
        "outputId": "4eb753af-623d-4aa1-f26f-a81cbad10a9c"
      },
      "source": [
        "s4.strip()"
      ],
      "execution_count": 31,
      "outputs": [
        {
          "output_type": "execute_result",
          "data": {
            "application/vnd.google.colaboratory.intrinsic+json": {
              "type": "string"
            },
            "text/plain": [
              "'I am a   string with multiple  spaces'"
            ]
          },
          "metadata": {},
          "execution_count": 31
        }
      ]
    },
    {
      "cell_type": "code",
      "metadata": {
        "id": "raViw1semHct",
        "colab": {
          "base_uri": "https://localhost:8080/",
          "height": 35
        },
        "outputId": "ca86ecc6-708c-459d-9afc-39de85d828b2"
      },
      "source": [
        "s5 = \"I am centered string\"\n",
        "s5.center(30)"
      ],
      "execution_count": 32,
      "outputs": [
        {
          "output_type": "execute_result",
          "data": {
            "application/vnd.google.colaboratory.intrinsic+json": {
              "type": "string"
            },
            "text/plain": [
              "'     I am centered string     '"
            ]
          },
          "metadata": {},
          "execution_count": 32
        }
      ]
    },
    {
      "cell_type": "code",
      "metadata": {
        "id": "DtNo27cxmHct",
        "colab": {
          "base_uri": "https://localhost:8080/",
          "height": 35
        },
        "outputId": "dc3bc78d-96dc-479a-b1a0-ef29e1212751"
      },
      "source": [
        "s5.center(10)"
      ],
      "execution_count": 33,
      "outputs": [
        {
          "output_type": "execute_result",
          "data": {
            "application/vnd.google.colaboratory.intrinsic+json": {
              "type": "string"
            },
            "text/plain": [
              "'I am centered string'"
            ]
          },
          "metadata": {},
          "execution_count": 33
        }
      ]
    },
    {
      "cell_type": "code",
      "metadata": {
        "id": "TzYWvxdZmHcu",
        "colab": {
          "base_uri": "https://localhost:8080/"
        },
        "outputId": "cf37ffbc-0dfa-4e0d-9c0b-1cdd9cf06f5b"
      },
      "source": [
        "s5.find('centered')"
      ],
      "execution_count": 34,
      "outputs": [
        {
          "output_type": "execute_result",
          "data": {
            "text/plain": [
              "5"
            ]
          },
          "metadata": {},
          "execution_count": 34
        }
      ]
    }
  ]
}