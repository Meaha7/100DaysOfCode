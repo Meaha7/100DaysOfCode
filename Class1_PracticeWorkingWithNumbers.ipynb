{
  "nbformat": 4,
  "nbformat_minor": 0,
  "metadata": {
    "kernelspec": {
      "display_name": "Python 3",
      "language": "python",
      "name": "python3"
    },
    "language_info": {
      "codemirror_mode": {
        "name": "ipython",
        "version": 3
      },
      "file_extension": ".py",
      "mimetype": "text/x-python",
      "name": "python",
      "nbconvert_exporter": "python",
      "pygments_lexer": "ipython3",
      "version": "3.8.5"
    },
    "colab": {
      "name": "Class1-PracticeWorkingWithNumbers.ipynb",
      "provenance": []
    }
  },
  "cells": [
    {
      "cell_type": "markdown",
      "metadata": {
        "id": "Db0Zc4OkxjsR"
      },
      "source": [
        "# Working with Numeric Data"
      ]
    },
    {
      "cell_type": "markdown",
      "metadata": {
        "id": "uac9mmvnxjsZ"
      },
      "source": [
        "## Python's Arithmetic Operators\n",
        "    Addition                (+)\n",
        "    Subtraction             (-)\n",
        "    Multiplication          (*)\n",
        "    Division             \n",
        "        Integer Division    (//)\n",
        "        True Division       (/)\n",
        "        Modulo Division     (%)\n",
        "    Exponentiation          (**)"
      ]
    },
    {
      "cell_type": "code",
      "metadata": {
        "id": "Y5RWFhuQxjsc",
        "colab": {
          "base_uri": "https://localhost:8080/"
        },
        "outputId": "c8b8e25f-5881-4573-e3ec-c1de7be0b9e1"
      },
      "source": [
        "5+4"
      ],
      "execution_count": 1,
      "outputs": [
        {
          "output_type": "execute_result",
          "data": {
            "text/plain": [
              "9"
            ]
          },
          "metadata": {},
          "execution_count": 1
        }
      ]
    },
    {
      "cell_type": "code",
      "metadata": {
        "id": "1WkXXRi-xjsi",
        "colab": {
          "base_uri": "https://localhost:8080/"
        },
        "outputId": "b57655c9-0b29-45ec-e38f-a577d274ad7a"
      },
      "source": [
        "25/4"
      ],
      "execution_count": 2,
      "outputs": [
        {
          "output_type": "execute_result",
          "data": {
            "text/plain": [
              "6.25"
            ]
          },
          "metadata": {},
          "execution_count": 2
        }
      ]
    },
    {
      "cell_type": "code",
      "metadata": {
        "id": "E4tDrk-6xjsj",
        "colab": {
          "base_uri": "https://localhost:8080/"
        },
        "outputId": "d18fd70f-ca47-4ac1-c84e-d45534d80f90"
      },
      "source": [
        "25//4"
      ],
      "execution_count": 3,
      "outputs": [
        {
          "output_type": "execute_result",
          "data": {
            "text/plain": [
              "6"
            ]
          },
          "metadata": {},
          "execution_count": 3
        }
      ]
    },
    {
      "cell_type": "code",
      "metadata": {
        "id": "6nRNYKhAxjsk",
        "colab": {
          "base_uri": "https://localhost:8080/"
        },
        "outputId": "56e44ce4-c007-4d52-c9fe-d887c6789190"
      },
      "source": [
        "25%4"
      ],
      "execution_count": 4,
      "outputs": [
        {
          "output_type": "execute_result",
          "data": {
            "text/plain": [
              "1"
            ]
          },
          "metadata": {},
          "execution_count": 4
        }
      ]
    },
    {
      "cell_type": "code",
      "metadata": {
        "id": "jG3lWqBPxjsm",
        "colab": {
          "base_uri": "https://localhost:8080/"
        },
        "outputId": "5a36041d-1a0a-4807-fb40-f1d66906caa7"
      },
      "source": [
        "3**2"
      ],
      "execution_count": 5,
      "outputs": [
        {
          "output_type": "execute_result",
          "data": {
            "text/plain": [
              "9"
            ]
          },
          "metadata": {},
          "execution_count": 5
        }
      ]
    },
    {
      "cell_type": "code",
      "metadata": {
        "id": "TCJBtQq-xjsq",
        "colab": {
          "base_uri": "https://localhost:8080/"
        },
        "outputId": "17b646fb-97b0-494d-a4c8-41ec2f2a3ad1"
      },
      "source": [
        "3**2**3"
      ],
      "execution_count": 6,
      "outputs": [
        {
          "output_type": "execute_result",
          "data": {
            "text/plain": [
              "6561"
            ]
          },
          "metadata": {},
          "execution_count": 6
        }
      ]
    },
    {
      "cell_type": "code",
      "metadata": {
        "id": "SAZMvLowxjsu",
        "colab": {
          "base_uri": "https://localhost:8080/"
        },
        "outputId": "eb6ea87f-7cb5-48b9-9f5b-5961ba3776c8"
      },
      "source": [
        "9**3"
      ],
      "execution_count": 7,
      "outputs": [
        {
          "output_type": "execute_result",
          "data": {
            "text/plain": [
              "729"
            ]
          },
          "metadata": {},
          "execution_count": 7
        }
      ]
    },
    {
      "cell_type": "markdown",
      "metadata": {
        "id": "3MeTkt2sxjsv"
      },
      "source": [
        "### Precedence and Associativity of Arithmetic Operators\n",
        "         Operator       Precedence       Associativity\n",
        "            **           Highest         Right to Left\n",
        "        *  /  //  %                      Left to Right\n",
        "           +  -          Lowest          Left to Right"
      ]
    },
    {
      "cell_type": "code",
      "metadata": {
        "id": "a7KvAGqlxjsw",
        "colab": {
          "base_uri": "https://localhost:8080/"
        },
        "outputId": "0a8e8bc6-0927-4ace-9a63-7df74a08b348"
      },
      "source": [
        "3+4*5"
      ],
      "execution_count": 8,
      "outputs": [
        {
          "output_type": "execute_result",
          "data": {
            "text/plain": [
              "23"
            ]
          },
          "metadata": {},
          "execution_count": 8
        }
      ]
    },
    {
      "cell_type": "code",
      "metadata": {
        "id": "zSGMSIOgxjsx",
        "colab": {
          "base_uri": "https://localhost:8080/"
        },
        "outputId": "92e8a8a6-b128-4f8a-d838-86bf678388c1"
      },
      "source": [
        "(3+4)*5"
      ],
      "execution_count": 9,
      "outputs": [
        {
          "output_type": "execute_result",
          "data": {
            "text/plain": [
              "35"
            ]
          },
          "metadata": {},
          "execution_count": 9
        }
      ]
    },
    {
      "cell_type": "code",
      "metadata": {
        "id": "qFuMdkKKxjsy",
        "colab": {
          "base_uri": "https://localhost:8080/"
        },
        "outputId": "f007e75d-7aa1-4f5a-a1ed-27abd710223f"
      },
      "source": [
        "3*4/2+2**3"
      ],
      "execution_count": 10,
      "outputs": [
        {
          "output_type": "execute_result",
          "data": {
            "text/plain": [
              "14.0"
            ]
          },
          "metadata": {},
          "execution_count": 10
        }
      ]
    },
    {
      "cell_type": "code",
      "metadata": {
        "id": "kHHbMh_Gxjsz",
        "colab": {
          "base_uri": "https://localhost:8080/"
        },
        "outputId": "838eec54-0d42-4467-ae49-6a04e9641c3f"
      },
      "source": [
        "32//2//4"
      ],
      "execution_count": 11,
      "outputs": [
        {
          "output_type": "execute_result",
          "data": {
            "text/plain": [
              "4"
            ]
          },
          "metadata": {},
          "execution_count": 11
        }
      ]
    },
    {
      "cell_type": "code",
      "metadata": {
        "id": "7aK5K5--xjs0",
        "colab": {
          "base_uri": "https://localhost:8080/"
        },
        "outputId": "c77da428-b471-42e6-d7a8-24d478d82716"
      },
      "source": [
        "18%7%3"
      ],
      "execution_count": 12,
      "outputs": [
        {
          "output_type": "execute_result",
          "data": {
            "text/plain": [
              "1"
            ]
          },
          "metadata": {},
          "execution_count": 12
        }
      ]
    },
    {
      "cell_type": "markdown",
      "metadata": {
        "id": "OBYAh7yKxjs0"
      },
      "source": [
        "### Compound Arithmetic Assignments\n",
        "    +=, -=, *=, /=, //=, %="
      ]
    },
    {
      "cell_type": "code",
      "metadata": {
        "id": "_-syUOq3xjs1",
        "colab": {
          "base_uri": "https://localhost:8080/"
        },
        "outputId": "a4dadb13-7856-410d-a76f-dd626b5f376d"
      },
      "source": [
        "x=3\n",
        "x+=2\n",
        "x"
      ],
      "execution_count": 13,
      "outputs": [
        {
          "output_type": "execute_result",
          "data": {
            "text/plain": [
              "5"
            ]
          },
          "metadata": {},
          "execution_count": 13
        }
      ]
    },
    {
      "cell_type": "code",
      "metadata": {
        "id": "hRnTp-X-xjs1",
        "colab": {
          "base_uri": "https://localhost:8080/"
        },
        "outputId": "7d350789-60dc-4420-f991-701479cd45ba"
      },
      "source": [
        "x=14\n",
        "x//=3\n",
        "x"
      ],
      "execution_count": 14,
      "outputs": [
        {
          "output_type": "execute_result",
          "data": {
            "text/plain": [
              "4"
            ]
          },
          "metadata": {},
          "execution_count": 14
        }
      ]
    },
    {
      "cell_type": "code",
      "metadata": {
        "id": "1pqXyBr3xjs2",
        "colab": {
          "base_uri": "https://localhost:8080/"
        },
        "outputId": "d29b49d4-f725-427e-95df-cf58dcb40065"
      },
      "source": [
        "x=26\n",
        "x%=4\n",
        "x"
      ],
      "execution_count": 15,
      "outputs": [
        {
          "output_type": "execute_result",
          "data": {
            "text/plain": [
              "2"
            ]
          },
          "metadata": {},
          "execution_count": 15
        }
      ]
    },
    {
      "cell_type": "markdown",
      "metadata": {
        "id": "XKCs_8rLxjs3"
      },
      "source": [
        "### Let a, b, and c be the length of the 3 sides of an triangle. Find its area and perimeter of the triangle"
      ]
    },
    {
      "cell_type": "code",
      "metadata": {
        "id": "YDlpSmCtxjs3",
        "colab": {
          "base_uri": "https://localhost:8080/"
        },
        "outputId": "dcf6a594-b23a-4e2c-8cba-b5014e3fcf8a"
      },
      "source": [
        "a = int(input(\"Enter side-1: \"))\n",
        "b = int(input(\"Enter side-2: \"))\n",
        "c = int(input(\"Enter side-3: \"))\n",
        "s = (a+b+c)/2\n",
        "area = (s*(s-a)*(s-b)*(s-c))**0.5\n",
        "print(\"Area = \", area)"
      ],
      "execution_count": 16,
      "outputs": [
        {
          "output_type": "stream",
          "name": "stdout",
          "text": [
            "Enter side-1: 3\n",
            "Enter side-2: 4\n",
            "Enter side-3: 5\n",
            "Area =  6.0\n"
          ]
        }
      ]
    },
    {
      "cell_type": "markdown",
      "metadata": {
        "id": "Z-G1Bjidxjs4"
      },
      "source": [
        "### Let f be the temparature in fahrenheit. Convert it into celcius using the formula c = f*9/5+32"
      ]
    },
    {
      "cell_type": "code",
      "metadata": {
        "id": "CwpRCFEnxjs4",
        "colab": {
          "base_uri": "https://localhost:8080/"
        },
        "outputId": "8878a3a1-6c5b-4201-8608-c1fedceee72e"
      },
      "source": [
        "f = float(input(\"Enter temparature in farenheit: \"))\n",
        "c = (f-32)* 5 / 9\n",
        "print(\"Celcius : \", c)"
      ],
      "execution_count": 17,
      "outputs": [
        {
          "output_type": "stream",
          "name": "stdout",
          "text": [
            "Enter temparature in farenheit: 100\n",
            "Celcius :  37.77777777777778\n"
          ]
        }
      ]
    },
    {
      "cell_type": "markdown",
      "metadata": {
        "id": "apKZIvh0xjs6"
      },
      "source": [
        "### Let a point P be given in polar coordinates (r,θ). Find the equivalent point in Cartesian Coordinates (x,y) using the formula: x = r × cos( θ );  y = r × sin( θ )"
      ]
    },
    {
      "cell_type": "code",
      "metadata": {
        "id": "MHbBPcEuxjs9",
        "colab": {
          "base_uri": "https://localhost:8080/"
        },
        "outputId": "dda074a6-95c1-464e-f209-70cd2570635c"
      },
      "source": [
        "import math as m\n",
        "r = float(input(\"Enter radius: \"))\n",
        "theta = int(input(\"Enter theta in degrees: \"))\n",
        "x = r * m.cos(theta)\n",
        "y = r * m.sin(theta)\n",
        "print(\"x =\", x, \"y=\", y)"
      ],
      "execution_count": 18,
      "outputs": [
        {
          "output_type": "stream",
          "name": "stdout",
          "text": [
            "Enter radius: 4.5\n",
            "Enter theta in degrees: 30\n",
            "x = 0.6941315244941282 y= -4.446142308417878\n"
          ]
        }
      ]
    },
    {
      "cell_type": "markdown",
      "metadata": {
        "id": "0m_3gIXuxjs9"
      },
      "source": [
        "## Write a Python program to convert angle in degrees to radians and vice versa"
      ]
    },
    {
      "cell_type": "code",
      "metadata": {
        "id": "vFxGb1eTxjs-",
        "colab": {
          "base_uri": "https://localhost:8080/"
        },
        "outputId": "0b5bd3ed-17ed-46a9-fa87-060b83e36f8d"
      },
      "source": [
        "import math\n",
        "math.pi"
      ],
      "execution_count": 19,
      "outputs": [
        {
          "output_type": "execute_result",
          "data": {
            "text/plain": [
              "3.141592653589793"
            ]
          },
          "metadata": {},
          "execution_count": 19
        }
      ]
    },
    {
      "cell_type": "code",
      "metadata": {
        "colab": {
          "base_uri": "https://localhost:8080/"
        },
        "id": "0b1T1PJUzBWb",
        "outputId": "f137bd03-5631-4e2a-b291-2de8097c2d3a"
      },
      "source": [
        "degree = float(input(\"Input degrees: \"))\n",
        "radian = degree*(math.pi/180)\n",
        "print(radian)"
      ],
      "execution_count": 21,
      "outputs": [
        {
          "output_type": "stream",
          "name": "stdout",
          "text": [
            "Input degrees: 90\n",
            "1.5707963267948966\n"
          ]
        }
      ]
    },
    {
      "cell_type": "code",
      "metadata": {
        "colab": {
          "base_uri": "https://localhost:8080/"
        },
        "id": "zvVNDR4TzNjp",
        "outputId": "833fa222-42b5-4417-8a9e-96a3df2d48b7"
      },
      "source": [
        "radian = float(input(\"Input radian: \"))\n",
        "degree = (radian*180)/math.pi\n",
        "print(degree)"
      ],
      "execution_count": 22,
      "outputs": [
        {
          "output_type": "stream",
          "name": "stdout",
          "text": [
            "Input radian: 1.5707\n",
            "89.9944808811984\n"
          ]
        }
      ]
    },
    {
      "cell_type": "markdown",
      "metadata": {
        "id": "8oUjn4T_xjtA"
      },
      "source": [
        "## Write a Python program to compute area of trapezoid"
      ]
    },
    {
      "cell_type": "code",
      "metadata": {
        "id": "ON5zzvstxjtB",
        "colab": {
          "base_uri": "https://localhost:8080/"
        },
        "outputId": "9cf42a5c-eddb-452b-c513-d14be919f3fe"
      },
      "source": [
        "height = float(input(\"Height of trapezoid: \"))\n",
        "base_1 = float(input('Base one value: '))\n",
        "base_2 = float(input('Base two value: '))\n",
        "area = ((base_1 + base_2) / 2) * height\n",
        "print(\"Area is:\", area)"
      ],
      "execution_count": 23,
      "outputs": [
        {
          "output_type": "stream",
          "name": "stdout",
          "text": [
            "Height of trapezoid: 6\n",
            "Base one value: 10\n",
            "Base two value: 5\n",
            "Area is: 45.0\n"
          ]
        }
      ]
    },
    {
      "cell_type": "markdown",
      "metadata": {
        "id": "f2nnSA0xxjtB"
      },
      "source": [
        "## Write a Python program to calculate the given function.\n",
        "f(x) = 3x^2+2x+5"
      ]
    },
    {
      "cell_type": "code",
      "metadata": {
        "id": "oXeGiBodxjtB",
        "colab": {
          "base_uri": "https://localhost:8080/"
        },
        "outputId": "92529611-5f7a-4c23-b8ea-749f31963f37"
      },
      "source": [
        "x= int(input(\"Enter the value of x \"))\n",
        "x = (3*(x**2)+(2*x)+5)\n",
        "x"
      ],
      "execution_count": 24,
      "outputs": [
        {
          "name": "stdout",
          "output_type": "stream",
          "text": [
            "Enter the value of x1\n"
          ]
        },
        {
          "output_type": "execute_result",
          "data": {
            "text/plain": [
              "10"
            ]
          },
          "metadata": {},
          "execution_count": 24
        }
      ]
    }
  ]
}